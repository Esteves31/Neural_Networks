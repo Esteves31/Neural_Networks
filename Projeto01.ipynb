{
  "nbformat": 4,
  "nbformat_minor": 0,
  "metadata": {
    "colab": {
      "provenance": [],
      "authorship_tag": "ABX9TyPmfDwy0y/CAT0QB8KYeNFy",
      "include_colab_link": true
    },
    "kernelspec": {
      "name": "python3",
      "display_name": "Python 3"
    },
    "language_info": {
      "name": "python"
    }
  },
  "cells": [
    {
      "cell_type": "markdown",
      "metadata": {
        "id": "view-in-github",
        "colab_type": "text"
      },
      "source": [
        "<a href=\"https://colab.research.google.com/github/Esteves31/Neural_Networks/blob/main/Projeto01.ipynb\" target=\"_parent\"><img src=\"https://colab.research.google.com/assets/colab-badge.svg\" alt=\"Open In Colab\"/></a>"
      ]
    },
    {
      "cell_type": "markdown",
      "source": [
        "# Projeto 1 - Supervisionado\n",
        "\n",
        "---\n",
        "\n",
        "## Classificação e Regressão\n",
        "\n",
        "  <div style=\"text-align: justify; font-size: 15px;\">\n",
        "  Neste projeto serão apresentados dois dois datasets: íris e {...}, com o objetivo de relizar uma classificação e uma regressão. Serão considerados alguns pontos como a utilização de diferentes número de camadas, o impacto do uso do Momentum, avaliação do impacto do uso da regularização e a ilustração gráfica da evolução do treinamento/validação.\n",
        "  </div>\n"
      ],
      "metadata": {
        "id": "s29Nla2hn8PV"
      }
    },
    {
      "cell_type": "code",
      "execution_count": null,
      "metadata": {
        "id": "JJAcMGH_fx3R"
      },
      "outputs": [],
      "source": [
        "import numpy as np\n",
        "import pandas as pd\n",
        "import torch\n",
        "import torch.nn as nn\n",
        "import torch.nn.functional as F\n",
        "import sklearn.datasets\n",
        "from sklearn.preprocessing import MinMaxScaler\n",
        "from sklearn.model_selection import train_test_split\n",
        "import seaborn as sns\n",
        "import matplotlib.pyplot as plt\n",
        "from torchsummary import summary"
      ]
    },
    {
      "cell_type": "markdown",
      "source": [
        "## Importação da Base de Dados"
      ],
      "metadata": {
        "id": "ppE7I1h3p9D-"
      }
    },
    {
      "cell_type": "code",
      "source": [
        "dataBase = sklearn.datasets.load_iris()\n",
        "print(\"Atributos:\",dataBase['feature_names'])\n",
        "print(\"Classes (labels):\",dataBase['target_names'])\n",
        "print(\"Dimensões:\", dataBase['data'].shape)\n",
        "\n",
        "df = pd.DataFrame(dataBase.data, columns = dataBase.feature_names)\n",
        "df['label'] = [dataBase.target_names[i] for i in dataBase.target]"
      ],
      "metadata": {
        "id": "GI06Ky4ljs1-",
        "colab": {
          "base_uri": "https://localhost:8080/"
        },
        "outputId": "983f4065-c111-443d-d6e2-ab592916ef2c"
      },
      "execution_count": null,
      "outputs": [
        {
          "output_type": "stream",
          "name": "stdout",
          "text": [
            "Atributos: ['sepal length (cm)', 'sepal width (cm)', 'petal length (cm)', 'petal width (cm)']\n",
            "Classes (labels): ['setosa' 'versicolor' 'virginica']\n",
            "Dimensões: (150, 4)\n"
          ]
        }
      ]
    },
    {
      "cell_type": "markdown",
      "source": [
        "## Processamento dos dados"
      ],
      "metadata": {
        "id": "DOptObgAq67d"
      }
    },
    {
      "cell_type": "code",
      "source": [
        "X = df.drop(['label'], axis = 1)\n",
        "normalizer = MinMaxScaler()\n",
        "X_norm = pd.DataFrame(normalizer.fit_transform(X), columns = X.columns)\n",
        "labels = df.label.unique()\n",
        "print(labels, end = \"\\n\\n\")\n",
        "\n",
        "Y = pd.get_dummies(df.label)\n",
        "print(Y)"
      ],
      "metadata": {
        "colab": {
          "base_uri": "https://localhost:8080/"
        },
        "id": "Ot-yIJwhrCET",
        "outputId": "cbffb156-5272-45a7-ad51-82a5d8cfed88"
      },
      "execution_count": null,
      "outputs": [
        {
          "output_type": "stream",
          "name": "stdout",
          "text": [
            "['setosa' 'versicolor' 'virginica']\n",
            "\n",
            "     setosa  versicolor  virginica\n",
            "0         1           0          0\n",
            "1         1           0          0\n",
            "2         1           0          0\n",
            "3         1           0          0\n",
            "4         1           0          0\n",
            "..      ...         ...        ...\n",
            "145       0           0          1\n",
            "146       0           0          1\n",
            "147       0           0          1\n",
            "148       0           0          1\n",
            "149       0           0          1\n",
            "\n",
            "[150 rows x 3 columns]\n"
          ]
        }
      ]
    },
    {
      "cell_type": "markdown",
      "source": [
        "## Separação para Treino / Validação / Teste"
      ],
      "metadata": {
        "id": "UZWMGCnZsrEu"
      }
    },
    {
      "cell_type": "code",
      "source": [
        "X_develop, X_test, Y_develop, Y_test = train_test_split(X_norm, Y, test_size = 0.1, random_state = 1)\n",
        "\n",
        "X_train, X_val, Y_train, Y_val = train_test_split(X_develop, Y_develop, test_size = 0.2, random_state = 1)\n",
        "\n",
        "print(X_train.shape)\n",
        "print(X_val.shape)\n",
        "print(X_test.shape)"
      ],
      "metadata": {
        "colab": {
          "base_uri": "https://localhost:8080/"
        },
        "id": "AwZlkjRPsyEN",
        "outputId": "f95a07e2-6948-4613-f39b-23a623d93715"
      },
      "execution_count": null,
      "outputs": [
        {
          "output_type": "stream",
          "name": "stdout",
          "text": [
            "(108, 4)\n",
            "(27, 4)\n",
            "(15, 4)\n"
          ]
        }
      ]
    },
    {
      "cell_type": "markdown",
      "source": [
        "## Modelo 1"
      ],
      "metadata": {
        "id": "F-XWL33nOz1D"
      }
    },
    {
      "cell_type": "markdown",
      "source": [
        "### Modelo de Treino"
      ],
      "metadata": {
        "id": "fP1lrk0DuzR9"
      }
    },
    {
      "cell_type": "code",
      "source": [
        "class MLP(nn.Module):\n",
        "  def __init__(self, input_dim, output_dim):\n",
        "    super(MLP, self).__init__()\n",
        "    self.rede = nn.Sequential(\n",
        "        nn.Linear(input_dim, 10),\n",
        "        nn.Tanh(),\n",
        "        nn.Linear(10, output_dim),\n",
        "        nn.Sigmoid(),\n",
        "    )\n",
        "\n",
        "  def forward(self, x):\n",
        "    out =  self.rede(x)\n",
        "    return out"
      ],
      "metadata": {
        "id": "5uOoUSfou41z"
      },
      "execution_count": null,
      "outputs": []
    },
    {
      "cell_type": "markdown",
      "source": [
        "### Instanciando o Modelo"
      ],
      "metadata": {
        "id": "mPqqe4TrvxsE"
      }
    },
    {
      "cell_type": "code",
      "source": [
        "input_dim = 4\n",
        "output_dim = 3\n",
        "\n",
        "model = MLP(input_dim, output_dim)\n",
        "\n",
        "print(model, end = \"\\n\\n\")\n",
        "summary(model, (150,4))"
      ],
      "metadata": {
        "colab": {
          "base_uri": "https://localhost:8080/"
        },
        "id": "e7xhV94ovyfm",
        "outputId": "eb61acb8-cb00-4091-8bdb-8b7d226d0f8b"
      },
      "execution_count": null,
      "outputs": [
        {
          "output_type": "stream",
          "name": "stdout",
          "text": [
            "MLP(\n",
            "  (rede): Sequential(\n",
            "    (0): Linear(in_features=4, out_features=10, bias=True)\n",
            "    (1): Tanh()\n",
            "    (2): Linear(in_features=10, out_features=3, bias=True)\n",
            "    (3): Sigmoid()\n",
            "  )\n",
            ")\n",
            "\n",
            "----------------------------------------------------------------\n",
            "        Layer (type)               Output Shape         Param #\n",
            "================================================================\n",
            "            Linear-1              [-1, 150, 10]              50\n",
            "              Tanh-2              [-1, 150, 10]               0\n",
            "            Linear-3               [-1, 150, 3]              33\n",
            "           Sigmoid-4               [-1, 150, 3]               0\n",
            "================================================================\n",
            "Total params: 83\n",
            "Trainable params: 83\n",
            "Non-trainable params: 0\n",
            "----------------------------------------------------------------\n",
            "Input size (MB): 0.00\n",
            "Forward/backward pass size (MB): 0.03\n",
            "Params size (MB): 0.00\n",
            "Estimated Total Size (MB): 0.03\n",
            "----------------------------------------------------------------\n"
          ]
        }
      ]
    },
    {
      "cell_type": "markdown",
      "source": [
        "### Otimizador e Função de Custo"
      ],
      "metadata": {
        "id": "cIiCEE-1yQqA"
      }
    },
    {
      "cell_type": "code",
      "source": [
        "eta = 0.2\n",
        "loss_function = nn.MSELoss()\n",
        "optimizer = torch.optim.SGD(model.parameters(), lr = eta)"
      ],
      "metadata": {
        "id": "vY6UYueryWdc"
      },
      "execution_count": null,
      "outputs": []
    },
    {
      "cell_type": "markdown",
      "source": [
        "### Treinamento da Rede"
      ],
      "metadata": {
        "id": "gMp82xME0moS"
      }
    },
    {
      "cell_type": "markdown",
      "source": [
        "### Transformação dos Dados em Tensores Pytorch"
      ],
      "metadata": {
        "id": "TxEDrJsQ0qRq"
      }
    },
    {
      "cell_type": "code",
      "source": [
        "x_train = torch.FloatTensor(X_train.values)\n",
        "y_train = torch.FloatTensor(Y_train.values)\n",
        "\n",
        "x_val = torch.FloatTensor(X_val.values)\n",
        "y_val = torch.FloatTensor(Y_val.values)\n",
        "\n",
        "x_test = torch.FloatTensor(X_val.values)\n",
        "y_test = torch.FloatTensor(Y_val.values)"
      ],
      "metadata": {
        "id": "bm0lRqmB0wDP"
      },
      "execution_count": null,
      "outputs": []
    },
    {
      "cell_type": "code",
      "source": [
        "# Get cpu, gpu or mps device for training.\n",
        "device = (\n",
        "    \"cuda\"\n",
        "    if torch.cuda.is_available()\n",
        "    else \"mps\"\n",
        "    if torch.backends.mps.is_available()\n",
        "    else \"cpu\"\n",
        ")\n",
        "print(f\"Using {device} device\")"
      ],
      "metadata": {
        "colab": {
          "base_uri": "https://localhost:8080/"
        },
        "id": "wVNl1pkl1tyZ",
        "outputId": "3544d11f-d36e-4332-bd4e-fd31779833a6"
      },
      "execution_count": null,
      "outputs": [
        {
          "output_type": "stream",
          "name": "stdout",
          "text": [
            "Using cpu device\n"
          ]
        }
      ]
    },
    {
      "cell_type": "markdown",
      "source": [
        "### Laço de Treinamento"
      ],
      "metadata": {
        "id": "uzECRrc517YY"
      }
    },
    {
      "cell_type": "code",
      "source": [
        "def train_network(model, optimizer, loss_function, x_train, y_train, x_val, y_val, num_epochs, train_losses, val_lossess):\n",
        "  for epoch in range(num_epochs):\n",
        "    optimizer.zero_grad()\n",
        "\n",
        "    output_train = model(x_train)\n",
        "\n",
        "    loss_train = loss_function(output_train, y_train)\n",
        "\n",
        "    loss_train.backward()\n",
        "\n",
        "    optimizer.step()\n",
        "\n",
        "    output_val = model(x_val)\n",
        "    loss_val = loss_function(output_val, y_val)\n",
        "\n",
        "    train_losses[epoch] = loss_train.item()\n",
        "    val_losses[epoch] = loss_val.item()\n",
        "\n",
        "    if (epoch + 1) % 100 == 0:\n",
        "      print(f\"Epoca: {epoch + 1} / {num_epochs}, Erro de Treino: {loss_train.item():.4f}, Erro de Validação: {loss_val.item():.3f}\")\n"
      ],
      "metadata": {
        "id": "Z11wMp6f19Pt"
      },
      "execution_count": null,
      "outputs": []
    },
    {
      "cell_type": "code",
      "source": [
        "num_epochs = 5000\n",
        "train_losses = np.zeros(num_epochs)\n",
        "val_losses = np.zeros(num_epochs)\n",
        "\n",
        "train_network(model, optimizer, loss_function, x_train, y_train, x_val, y_val, num_epochs, train_losses, val_losses)"
      ],
      "metadata": {
        "colab": {
          "base_uri": "https://localhost:8080/"
        },
        "id": "3IjFmP4Q5Gok",
        "outputId": "af3604e6-904d-44c3-91cd-688a005819fb"
      },
      "execution_count": null,
      "outputs": [
        {
          "output_type": "stream",
          "name": "stdout",
          "text": [
            "Epoca: 100 / 5000, Erro de Treino: 0.1772, Erro de Validação: 0.184\n",
            "Epoca: 200 / 5000, Erro de Treino: 0.1444, Erro de Validação: 0.147\n",
            "Epoca: 300 / 5000, Erro de Treino: 0.1265, Erro de Validação: 0.126\n",
            "Epoca: 400 / 5000, Erro de Treino: 0.1172, Erro de Validação: 0.115\n",
            "Epoca: 500 / 5000, Erro de Treino: 0.1114, Erro de Validação: 0.108\n",
            "Epoca: 600 / 5000, Erro de Treino: 0.1070, Erro de Validação: 0.103\n",
            "Epoca: 700 / 5000, Erro de Treino: 0.1034, Erro de Validação: 0.099\n",
            "Epoca: 800 / 5000, Erro de Treino: 0.1001, Erro de Validação: 0.096\n",
            "Epoca: 900 / 5000, Erro de Treino: 0.0969, Erro de Validação: 0.092\n",
            "Epoca: 1000 / 5000, Erro de Treino: 0.0937, Erro de Validação: 0.088\n",
            "Epoca: 1100 / 5000, Erro de Treino: 0.0903, Erro de Validação: 0.085\n",
            "Epoca: 1200 / 5000, Erro de Treino: 0.0867, Erro de Validação: 0.081\n",
            "Epoca: 1300 / 5000, Erro de Treino: 0.0829, Erro de Validação: 0.077\n",
            "Epoca: 1400 / 5000, Erro de Treino: 0.0788, Erro de Validação: 0.073\n",
            "Epoca: 1500 / 5000, Erro de Treino: 0.0747, Erro de Validação: 0.068\n",
            "Epoca: 1600 / 5000, Erro de Treino: 0.0707, Erro de Validação: 0.064\n",
            "Epoca: 1700 / 5000, Erro de Treino: 0.0667, Erro de Validação: 0.060\n",
            "Epoca: 1800 / 5000, Erro de Treino: 0.0630, Erro de Validação: 0.056\n",
            "Epoca: 1900 / 5000, Erro de Treino: 0.0595, Erro de Validação: 0.053\n",
            "Epoca: 2000 / 5000, Erro de Treino: 0.0562, Erro de Validação: 0.049\n",
            "Epoca: 2100 / 5000, Erro de Treino: 0.0532, Erro de Validação: 0.046\n",
            "Epoca: 2200 / 5000, Erro de Treino: 0.0505, Erro de Validação: 0.043\n",
            "Epoca: 2300 / 5000, Erro de Treino: 0.0479, Erro de Validação: 0.040\n",
            "Epoca: 2400 / 5000, Erro de Treino: 0.0456, Erro de Validação: 0.038\n",
            "Epoca: 2500 / 5000, Erro de Treino: 0.0435, Erro de Validação: 0.035\n",
            "Epoca: 2600 / 5000, Erro de Treino: 0.0415, Erro de Validação: 0.033\n",
            "Epoca: 2700 / 5000, Erro de Treino: 0.0397, Erro de Validação: 0.031\n",
            "Epoca: 2800 / 5000, Erro de Treino: 0.0381, Erro de Validação: 0.029\n",
            "Epoca: 2900 / 5000, Erro de Treino: 0.0366, Erro de Validação: 0.027\n",
            "Epoca: 3000 / 5000, Erro de Treino: 0.0352, Erro de Validação: 0.026\n",
            "Epoca: 3100 / 5000, Erro de Treino: 0.0339, Erro de Validação: 0.024\n",
            "Epoca: 3200 / 5000, Erro de Treino: 0.0327, Erro de Validação: 0.023\n",
            "Epoca: 3300 / 5000, Erro de Treino: 0.0316, Erro de Validação: 0.022\n",
            "Epoca: 3400 / 5000, Erro de Treino: 0.0306, Erro de Validação: 0.021\n",
            "Epoca: 3500 / 5000, Erro de Treino: 0.0297, Erro de Validação: 0.020\n",
            "Epoca: 3600 / 5000, Erro de Treino: 0.0288, Erro de Validação: 0.019\n",
            "Epoca: 3700 / 5000, Erro de Treino: 0.0280, Erro de Validação: 0.018\n",
            "Epoca: 3800 / 5000, Erro de Treino: 0.0273, Erro de Validação: 0.017\n",
            "Epoca: 3900 / 5000, Erro de Treino: 0.0266, Erro de Validação: 0.016\n",
            "Epoca: 4000 / 5000, Erro de Treino: 0.0260, Erro de Validação: 0.015\n",
            "Epoca: 4100 / 5000, Erro de Treino: 0.0254, Erro de Validação: 0.015\n",
            "Epoca: 4200 / 5000, Erro de Treino: 0.0248, Erro de Validação: 0.014\n",
            "Epoca: 4300 / 5000, Erro de Treino: 0.0243, Erro de Validação: 0.013\n",
            "Epoca: 4400 / 5000, Erro de Treino: 0.0238, Erro de Validação: 0.013\n",
            "Epoca: 4500 / 5000, Erro de Treino: 0.0234, Erro de Validação: 0.012\n",
            "Epoca: 4600 / 5000, Erro de Treino: 0.0230, Erro de Validação: 0.012\n",
            "Epoca: 4700 / 5000, Erro de Treino: 0.0226, Erro de Validação: 0.012\n",
            "Epoca: 4800 / 5000, Erro de Treino: 0.0222, Erro de Validação: 0.011\n",
            "Epoca: 4900 / 5000, Erro de Treino: 0.0218, Erro de Validação: 0.011\n",
            "Epoca: 5000 / 5000, Erro de Treino: 0.0215, Erro de Validação: 0.010\n"
          ]
        }
      ]
    },
    {
      "cell_type": "markdown",
      "source": [
        "### Resultados"
      ],
      "metadata": {
        "id": "H1k2ktOSD8kf"
      }
    },
    {
      "cell_type": "code",
      "source": [
        "plt.figure(figsize = (10, 10))\n",
        "plt.plot(train_losses, label='Erro de Treino')\n",
        "plt.plot(val_losses, label='Erro de Validação')\n",
        "plt.legend()\n",
        "plt.show()"
      ],
      "metadata": {
        "colab": {
          "base_uri": "https://localhost:8080/",
          "height": 830
        },
        "id": "xyyZ3C6WES2W",
        "outputId": "4b7de5c4-df3d-4da2-fe93-8d05b7360b84"
      },
      "execution_count": null,
      "outputs": [
        {
          "output_type": "display_data",
          "data": {
            "text/plain": [
              "<Figure size 1000x1000 with 1 Axes>"
            ],
            "image/png": "[encoded data removed]"
          },
          "metadata": {}
        }
      ]
    },
    {
      "cell_type": "markdown",
      "source": [
        "### Erros de Treino / Validação / Teste"
      ],
      "metadata": {
        "id": "XALHZn1FG3Qe"
      }
    },
    {
      "cell_type": "code",
      "source": [
        "predictions_train = []\n",
        "predictions_val = []\n",
        "predictions_test =  []\n",
        "with torch.no_grad():\n",
        "    predictions_train = model(x_train)\n",
        "    predictions_val = model(x_val)\n",
        "    predictions_test = model(x_test)\n",
        "\n",
        "error_train = loss_function(predictions_train, y_train)\n",
        "error_val = loss_function(predictions_val, y_val)\n",
        "error_test = loss_function(predictions_test, y_test)\n",
        "\n",
        "print(f\"Erro de Treino: {error_train}\")\n",
        "print(f\"Erro de Validação: {error_val}\")\n",
        "print(f\"Erro de Teste: {error_test}\")"
      ],
      "metadata": {
        "colab": {
          "base_uri": "https://localhost:8080/"
        },
        "id": "FnZ98VoqFEYv",
        "outputId": "6027dd18-ed58-441f-e627-a4211d6f2811"
      },
      "execution_count": null,
      "outputs": [
        {
          "output_type": "stream",
          "name": "stdout",
          "text": [
            "Erro de Treino: 0.02150990068912506\n",
            "Erro de Validação: 0.010456599295139313\n",
            "Erro de Teste: 0.010456599295139313\n"
          ]
        }
      ]
    },
    {
      "cell_type": "markdown",
      "source": [
        "### Acurácia da Classificação"
      ],
      "metadata": {
        "id": "lKWyaHsDG_VO"
      }
    },
    {
      "cell_type": "code",
      "source": [
        "pred_train = torch.argmax(predictions_train, dim=1)\n",
        "label_train = torch.argmax(y_train, dim=1)\n",
        "pred_val = torch.argmax(predictions_val, dim=1)\n",
        "label_val = torch.argmax(y_val, dim=1)\n",
        "pred_test = torch.argmax(predictions_test, dim=1)\n",
        "label_test = torch.argmax(y_test, dim=1)\n",
        "\n",
        "from sklearn.metrics import accuracy_score\n",
        "acc_train = accuracy_score(label_train, pred_train)\n",
        "acc_val = accuracy_score(label_val, pred_val)\n",
        "acc_test = accuracy_score(label_test, pred_test)\n",
        "\n",
        "\n",
        "print(f\"Acurácia de Treino: {acc_train*100:.2f}%\")\n",
        "print(f\"Acurácia de Validação: {acc_val*100:.2f}%\")\n",
        "print(f\"Acurácia de Teste: {acc_test*100:.2f}%\")"
      ],
      "metadata": {
        "colab": {
          "base_uri": "https://localhost:8080/"
        },
        "id": "qGL6agxXHFay",
        "outputId": "5aff2c45-6146-463c-e93b-5f2b8dc0ecb3"
      },
      "execution_count": null,
      "outputs": [
        {
          "output_type": "stream",
          "name": "stdout",
          "text": [
            "Acurácia de Treino: 96.30%\n",
            "Acurácia de Validação: 100.00%\n",
            "Acurácia de Teste: 100.00%\n"
          ]
        }
      ]
    },
    {
      "cell_type": "markdown",
      "source": [
        "## Modelo 2"
      ],
      "metadata": {
        "id": "JAcQpDlwO7rU"
      }
    },
    {
      "cell_type": "markdown",
      "source": [
        "### Modelo de treino"
      ],
      "metadata": {
        "id": "ux9EUNsoVIDU"
      }
    },
    {
      "cell_type": "code",
      "source": [
        "class MLP(nn.Module):\n",
        "  def __init__(self, input_dim, output_dim):\n",
        "    super(MLP, self).__init__()\n",
        "    self.rede = nn.Linear(input_size, output_size)\n",
        "\n",
        "  def forward(self, x):\n",
        "    out = self.rede(x)\n",
        "    return out"
      ],
      "metadata": {
        "id": "7-mV9lsIO_KN"
      },
      "execution_count": null,
      "outputs": []
    },
    {
      "cell_type": "markdown",
      "source": [
        "### Instanciando o modelo"
      ],
      "metadata": {
        "id": "Bih81XLaVSj1"
      }
    },
    {
      "cell_type": "code",
      "source": [
        "input_size = 4\n",
        "output_size = 3\n",
        "\n",
        "model2 = MLP(input_size, output_size)\n",
        "\n",
        "print(model2, end = \"\\n\\n\")\n",
        "summary(model2, (150,4))"
      ],
      "metadata": {
        "colab": {
          "base_uri": "https://localhost:8080/"
        },
        "id": "cP-Tp5-uVU_U",
        "outputId": "e2126a47-f3a9-4df7-d970-e8b3338b40a2"
      },
      "execution_count": null,
      "outputs": [
        {
          "output_type": "stream",
          "name": "stdout",
          "text": [
            "MLP(\n",
            "  (rede): Linear(in_features=4, out_features=3, bias=True)\n",
            ")\n",
            "\n",
            "----------------------------------------------------------------\n",
            "        Layer (type)               Output Shape         Param #\n",
            "================================================================\n",
            "            Linear-1               [-1, 150, 3]              15\n",
            "================================================================\n",
            "Total params: 15\n",
            "Trainable params: 15\n",
            "Non-trainable params: 0\n",
            "----------------------------------------------------------------\n",
            "Input size (MB): 0.00\n",
            "Forward/backward pass size (MB): 0.00\n",
            "Params size (MB): 0.00\n",
            "Estimated Total Size (MB): 0.01\n",
            "----------------------------------------------------------------\n"
          ]
        }
      ]
    },
    {
      "cell_type": "markdown",
      "source": [
        "### Otimizador e Função de Custo"
      ],
      "metadata": {
        "id": "RsJqS5muWJbk"
      }
    },
    {
      "cell_type": "code",
      "source": [
        "eta = 0.2\n",
        "loss_function2 = nn.MSELoss()\n",
        "optmizer2 = torch.optim.SGD(model.parameters(), lr = eta)"
      ],
      "metadata": {
        "id": "ZZw4uzvCWOTs"
      },
      "execution_count": null,
      "outputs": []
    },
    {
      "cell_type": "markdown",
      "source": [
        "### Treinamento da Rede"
      ],
      "metadata": {
        "id": "Pa1DtlOAW3J5"
      }
    },
    {
      "cell_type": "markdown",
      "source": [
        "### Transformação dos Dados em Tensores PyTorch"
      ],
      "metadata": {
        "id": "5eVc7iWYW5i5"
      }
    },
    {
      "cell_type": "code",
      "source": [],
      "metadata": {
        "id": "q-369U3aXBYd"
      },
      "execution_count": null,
      "outputs": []
    }
  ]
}